{
 "cells": [
  {
   "cell_type": "code",
   "execution_count": 7,
   "id": "758fa326",
   "metadata": {},
   "outputs": [
    {
     "name": "stdout",
     "output_type": "stream",
     "text": [
      "Enter the total amount spent: 500\n",
      "Enter location to deliver: Kisumu\n",
      "Total delivery cost is 300\n"
     ]
    }
   ],
   "source": [
    "#delivery of items based on amount and location\n",
    "\n",
    "Amount = int(input(\"Enter the total amount spent: \"))\n",
    "Location =input(\"Enter location to deliver: \")\n",
    "if Location == \"Nairobi\":\n",
    "    if Amount <=500:\n",
    "        print(\"Total delivery cost is 300\")\n",
    "    elif Amount > 500 and Amount <= 1000:\n",
    "        print(\"Total delivery cost is 250\")\n",
    "    else:\n",
    "        print(\"Total delivery cost is 200\")\n",
    "        \n",
    "elif Location == \"Kisumu\":\n",
    "    if Amount <=500:\n",
    "        print(\"Total delivery cost is 300\")\n",
    "    elif Amount > 500 and Amount <= 1000:\n",
    "        print(\"Total delivery cost is 250\")\n",
    "    else:\n",
    "        print(\"Total delivery cost is 200\")\n",
    "        \n",
    "else:\n",
    "    print(\"Invalid location\")"
   ]
  }
 ],
 "metadata": {
  "kernelspec": {
   "display_name": "Python 3 (ipykernel)",
   "language": "python",
   "name": "python3"
  },
  "language_info": {
   "codemirror_mode": {
    "name": "ipython",
    "version": 3
   },
   "file_extension": ".py",
   "mimetype": "text/x-python",
   "name": "python",
   "nbconvert_exporter": "python",
   "pygments_lexer": "ipython3",
   "version": "3.11.5"
  }
 },
 "nbformat": 4,
 "nbformat_minor": 5
}
