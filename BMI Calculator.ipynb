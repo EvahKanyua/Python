{
 "cells": [
  {
   "cell_type": "code",
   "execution_count": 1,
   "id": "b58cd019",
   "metadata": {},
   "outputs": [
    {
     "name": "stdout",
     "output_type": "stream",
     "text": [
      "Enter your weight in Pounds: 136\n",
      "Enter your heigHt in inches: 65\n",
      "22.6291124260355\n",
      " You are of Normal weight\n"
     ]
    }
   ],
   "source": [
    "Weight = int(input(\"Enter your weight in Pounds: \"))\n",
    "Height=int(input(\"Enter your heigHt in inches: \"))\n",
    "BMI=(Weight * 703) / (Height * Height)\n",
    "print(BMI)\n",
    "\n",
    "if BMI< 18.5:\n",
    "    print(\"You are underweight\")\n",
    "elif BMI >= 18.5 and BMI <25:\n",
    "    print(\" You are of Normal weight\")\n",
    "elif BMI >= 25 and BMI <30:\n",
    "    print(\"Your are Obese\")\n",
    "elif BMI >=30 and BMI < 35:\n",
    "    print (\"Your are Obese Class I\")\n",
    "elif BMI >=35 and BMI < 40:\n",
    "    print(\"You are Obese Class II\")\n",
    "else:\n",
    "    print (\"You are Obese Class III\")"
   ]
  },
  {
   "cell_type": "markdown",
   "id": "e8dc5b9f",
   "metadata": {},
   "source": []
  }
 ],
 "metadata": {
  "kernelspec": {
   "display_name": "Python 3 (ipykernel)",
   "language": "python",
   "name": "python3"
  },
  "language_info": {
   "codemirror_mode": {
    "name": "ipython",
    "version": 3
   },
   "file_extension": ".py",
   "mimetype": "text/x-python",
   "name": "python",
   "nbconvert_exporter": "python",
   "pygments_lexer": "ipython3",
   "version": "3.11.5"
  }
 },
 "nbformat": 4,
 "nbformat_minor": 5
}
