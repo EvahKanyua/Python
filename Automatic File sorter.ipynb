{
 "cells": [
  {
   "cell_type": "code",
   "execution_count": 1,
   "id": "a64209e3",
   "metadata": {},
   "outputs": [],
   "source": [
    "import os\n",
    "import shutil"
   ]
  },
  {
   "cell_type": "code",
   "execution_count": 2,
   "id": "6ddbd8ba",
   "metadata": {},
   "outputs": [],
   "source": [
    "path = r'D:\\files'"
   ]
  },
  {
   "cell_type": "code",
   "execution_count": 3,
   "id": "30ca2d92",
   "metadata": {},
   "outputs": [
    {
     "data": {
      "text/plain": [
       "86.0429916381836"
      ]
     },
     "execution_count": 3,
     "metadata": {},
     "output_type": "execute_result"
    }
   ],
   "source": [
    "shutil.disk_usage(path)[1]/(1024*1024*1024)"
   ]
  },
  {
   "cell_type": "code",
   "execution_count": 7,
   "id": "99e39759",
   "metadata": {},
   "outputs": [
    {
     "data": {
      "text/plain": [
       "['.ipynb', '.jpg', '.mp3', '.pdf', '.png', '.webp', '.xlsx']"
      ]
     },
     "execution_count": 7,
     "metadata": {},
     "output_type": "execute_result"
    }
   ],
   "source": [
    "list_of_files = os.listdir(path)\n",
    "list_of_files"
   ]
  },
  {
   "cell_type": "code",
   "execution_count": 8,
   "id": "0f22ac37",
   "metadata": {},
   "outputs": [
    {
     "name": "stdout",
     "output_type": "stream",
     "text": [
      ".ipynb \n",
      ".jpg \n",
      ".mp3 \n",
      ".pdf \n",
      ".png \n",
      ".webp \n",
      ".xlsx \n"
     ]
    }
   ],
   "source": [
    "for file in list_of_files:\n",
    "    name, extension= os.path.splitext(file)\n",
    "    print(name, extension[1:])\n",
    "    \n",
    "    if os.path.exists(path+'/'+extension):\n",
    "        shutil.move(path+'/'+file, path+'/'+extension+'/'+file)\n",
    "    else:\n",
    "        os.makedirs(path+'/'+extension)\n",
    "        shutil.move(path+'/'+file, path+'/'+extension+'/'+file)\n",
    "        "
   ]
  },
  {
   "cell_type": "code",
   "execution_count": null,
   "id": "00903648",
   "metadata": {},
   "outputs": [],
   "source": []
  },
  {
   "cell_type": "code",
   "execution_count": null,
   "id": "6cf904c3",
   "metadata": {},
   "outputs": [],
   "source": []
  },
  {
   "cell_type": "code",
   "execution_count": null,
   "id": "8b6e2e19",
   "metadata": {},
   "outputs": [],
   "source": []
  }
 ],
 "metadata": {
  "kernelspec": {
   "display_name": "Python 3 (ipykernel)",
   "language": "python",
   "name": "python3"
  },
  "language_info": {
   "codemirror_mode": {
    "name": "ipython",
    "version": 3
   },
   "file_extension": ".py",
   "mimetype": "text/x-python",
   "name": "python",
   "nbconvert_exporter": "python",
   "pygments_lexer": "ipython3",
   "version": "3.11.5"
  }
 },
 "nbformat": 4,
 "nbformat_minor": 5
}
